{
 "cells": [
  {
   "cell_type": "raw",
   "id": "d4fc654e-18e1-4802-8e02-0c7d99998946",
   "metadata": {},
   "source": [
    "2 qubit circuit\n",
    "searched state is |11>"
   ]
  },
  {
   "cell_type": "code",
   "execution_count": 40,
   "id": "d49b7cf8-7ba4-4b1a-a7d4-1c01f2a7e69b",
   "metadata": {},
   "outputs": [],
   "source": [
    "from qiskit import QuantumCircuit, QuantumRegister, ClassicalRegister, transpile\n",
    "from qiskit_aer import Aer\n",
    "from qiskit.visualization import plot_histogram, array_to_latex"
   ]
  },
  {
   "cell_type": "code",
   "execution_count": 38,
   "id": "8a9ae7de-4bc3-4d5f-a297-8e46f0092b44",
   "metadata": {},
   "outputs": [],
   "source": [
    "def initialize_s(qc, qubits):\n",
    "    for q in qubits:\n",
    "        qc.h(q)\n",
    "    return qc\n",
    "\n",
    "\n",
    "# in this case, the oracle needs to mark state |11>, which can be done by CZ\n",
    "def oracle(qc):\n",
    "    qc.cz(0, 1)\n",
    "    return qc\n",
    "\n",
    "\n",
    "# you need to apply reflection U_s to state |s>, where U_s = 2|s><s| - Identity\n",
    "# by applying H-gates to |s> you obtain |0>\n",
    "# then you apply circuit that adds a negative phase to orthogonal states to |0> = |00>\n",
    "# that is done by qc.z([0, 1]) and qc.cz(0, 1)\n",
    "#     > U_0 = Z*CZ: U_0 [(1/2) * (|00> + |01> + |10> + |11>)] = (1/2) (|00> - |01> - |10> - |11>)\n",
    "# and then you apply H-gates again to recover state |s>\n",
    "# U_s = H*Z*CZ*H\n",
    "def diffusion_operator(qc):\n",
    "    qc.h([0, 1])\n",
    "    qc.z([0, 1])\n",
    "    qc.cz(0, 1)\n",
    "    qc.h([0, 1])\n",
    "    return qc"
   ]
  },
  {
   "cell_type": "code",
   "execution_count": 34,
   "id": "c1276c74-5063-4db2-9815-769744b9e85f",
   "metadata": {},
   "outputs": [
    {
     "data": {
      "image/png": "[encoded data removed]",
      "text/plain": [
       "<Figure size 287.294x200.667 with 1 Axes>"
      ]
     },
     "execution_count": 34,
     "metadata": {},
     "output_type": "execute_result"
    }
   ],
   "source": [
    "n = 2\n",
    "grover_circuit = QuantumCircuit(n)\n",
    "\n",
    "# initialize to superposition\n",
    "grover_circuit = initialize_s(grover_circuit, [qubit for qubit in range(n)])\n",
    "grover_circuit.barrier()\n",
    "grover_circuit.draw(output='mpl')"
   ]
  },
  {
   "cell_type": "code",
   "execution_count": 35,
   "id": "197940e7-610c-4e77-86ef-fd97f66ed683",
   "metadata": {},
   "outputs": [
    {
     "data": {
      "image/png": "[encoded data removed]",
      "text/plain": [
       "<Figure size 454.517x200.667 with 1 Axes>"
      ]
     },
     "execution_count": 35,
     "metadata": {},
     "output_type": "execute_result"
    }
   ],
   "source": [
    "# apply oracle\n",
    "grover_circuit = oracle(grover_circuit)\n",
    "grover_circuit.barrier()\n",
    "grover_circuit.draw(output='mpl')"
   ]
  },
  {
   "cell_type": "code",
   "execution_count": 36,
   "id": "140ab332-4d6e-4172-b5cf-06efe8786471",
   "metadata": {
    "scrolled": true
   },
   "outputs": [
    {
     "data": {
      "image/png": "[encoded data removed]",
      "text/plain": [
       "<Figure size 872.572x200.667 with 1 Axes>"
      ]
     },
     "execution_count": 36,
     "metadata": {},
     "output_type": "execute_result"
    }
   ],
   "source": [
    "# apply diffusion operator\n",
    "grover_circuit = diffusion_operator(grover_circuit)\n",
    "grover_circuit.barrier()\n",
    "grover_circuit.draw(output='mpl')"
   ]
  },
  {
   "cell_type": "code",
   "execution_count": 41,
   "id": "7f5e8b23-a7bd-43ca-b538-83688664f380",
   "metadata": {},
   "outputs": [
    {
     "data": {
      "text/latex": [
       "$$\n",
       "|\\psi\\rangle = \n",
       "\\begin{bmatrix}\n",
       "0 & 0 & 0 & 1  \\\\\n",
       " \\end{bmatrix}\n",
       "$$"
      ],
      "text/plain": [
       "<IPython.core.display.Latex object>"
      ]
     },
     "execution_count": 41,
     "metadata": {},
     "output_type": "execute_result"
    }
   ],
   "source": [
    "## SIMULATOR\n",
    "sv_sim = Aer.get_backend('statevector_simulator')\n",
    "result = sv_sim.run(grover_circuit).result()\n",
    "statevec = result.get_statevector()\n",
    "array_to_latex(statevec, prefix=\"|\\\\psi\\\\rangle = \")"
   ]
  },
  {
   "cell_type": "code",
   "execution_count": 42,
   "id": "8cc49d46-b2c6-4315-a475-58f599d47515",
   "metadata": {},
   "outputs": [],
   "source": [
    "grover_circuit.measure_all()\n",
    "grover_circuit.draw(output='mpl')\n",
    "\n",
    "qasm_sim = Aer.get_backend('qasm_simulator')\n",
    "result = qasm_sim.run(grover_circuit)"
   ]
  }
 ],
 "metadata": {
  "kernelspec": {
   "display_name": "Python 3 (ipykernel)",
   "language": "python",
   "name": "python3"
  },
  "language_info": {
   "codemirror_mode": {
    "name": "ipython",
    "version": 3
   },
   "file_extension": ".py",
   "mimetype": "text/x-python",
   "name": "python",
   "nbconvert_exporter": "python",
   "pygments_lexer": "ipython3",
   "version": "3.12.7"
  }
 },
 "nbformat": 4,
 "nbformat_minor": 5
}
