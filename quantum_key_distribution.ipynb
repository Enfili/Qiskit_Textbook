{
 "cells": [
  {
   "cell_type": "code",
   "execution_count": 1,
   "id": "4fcd0e97-9b84-4545-8e1a-a8357c60e8cb",
   "metadata": {},
   "outputs": [
    {
     "ename": "SyntaxError",
     "evalue": "invalid syntax (2010258075.py, line 1)",
     "output_type": "error",
     "traceback": [
      "\u001b[1;36m  Cell \u001b[1;32mIn[1], line 1\u001b[1;36m\u001b[0m\n\u001b[1;33m    The quantum key distribution protocol involves repeating this process enough times that an eavesdropper has a negligible chance of getting away with\u001b[0m\n\u001b[1;37m        ^\u001b[0m\n\u001b[1;31mSyntaxError\u001b[0m\u001b[1;31m:\u001b[0m invalid syntax\n"
     ]
    }
   ],
   "source": [
    "The quantum key distribution protocol involves repeating this process enough times that an eavesdropper has a negligible chance of getting away with \n",
    "this interception. It is roughly as follows:\n",
    "\n",
    "- Step 1\n",
    "\n",
    "Alice chooses a string of random bits, e.g.:\n",
    "\n",
    "1000101011010100\n",
    "\n",
    "And a random choice of basis for each bit:\n",
    "\n",
    "ZZXZXXXZXZXXXXXX\n",
    "\n",
    "Alice keeps these two pieces of information private to herself.\n",
    "\n",
    "- Step 2\n",
    "\n",
    "Alice then encodes each bit onto a string of qubits using the basis she chose; this means each qubit is in one of the states |0>, |1>, |+> or |->, \n",
    "chosen at random. In this case, the string of qubits would look like this:\n",
    "                |1>|0>|+>|0>|->|+>|->|0>|->|1>|+>|->|+>|->|+>|+>\n",
    "This is the message she sends to Bob.\n",
    "\n",
    "- Step 3\n",
    "\n",
    "Bob then measures each qubit at random, for example, he might use the bases:\n",
    "\n",
    "XZZZXZXZXZXZZZXZ\n",
    "\n",
    "And Bob keeps the measurement results private.\n",
    "\n",
    "- Step 4\n",
    "\n",
    "Bob and Alice then publicly share which basis they used for each qubit. If Bob measured a qubit in the same basis Alice prepared it in, they use this \n",
    "to form part of their shared secret key, otherwise they discard the information for that bit.\n",
    "\n",
    "- Step 5\n",
    "\n",
    "Finally, Bob and Alice share a random sample of their keys, and if the samples match, they can be sure (to a small margin of error) that their \n",
    "transmission is successful."
   ]
  },
  {
   "cell_type": "code",
   "execution_count": 25,
   "id": "036e12bf-f11c-4d54-badc-0031fd2e61cf",
   "metadata": {},
   "outputs": [],
   "source": [
    "from qiskit import QuantumCircuit, transpile\n",
    "from qiskit_aer import Aer\n",
    "from qiskit.visualization import plot_histogram, plot_bloch_multivector\n",
    "import random\n",
    "from numpy.random import randint\n",
    "import numpy as np"
   ]
  },
  {
   "cell_type": "code",
   "execution_count": 26,
   "id": "cb1d9f42-897f-49b4-ade0-0962fe480d20",
   "metadata": {},
   "outputs": [],
   "source": [
    "## FUNCTIONS\n",
    "def encode_message(bits, bases):\n",
    "    message = []\n",
    "    \n",
    "    for i in range(n):\n",
    "        qc = QuantumCircuit(1,1)\n",
    "        \n",
    "        if bases[i] == 0:\n",
    "            if bits[i] == 0:\n",
    "                pass\n",
    "            else:\n",
    "                qc.x(0)\n",
    "        else:\n",
    "            if bits[i] == 0:\n",
    "                qc.h(0)\n",
    "            else:\n",
    "                qc.x(0)\n",
    "                qc.h(0)\n",
    "\n",
    "        qc.barrier()\n",
    "        message.append(qc)\n",
    "\n",
    "    return message\n",
    "\n",
    "\n",
    "# The parameter memory is used to record and return the measurement outcomes for each shot of the simulation. When you set memory=True, it \n",
    "# tells the simulator to save the measurement result from each shot as a separate item in a list.\n",
    "def measure_message(message, bases):\n",
    "    backend = Aer.get_backend('aer_simulator')\n",
    "    measurements = []\n",
    "    for q in range(n):\n",
    "        if bases[q] == 0:\n",
    "            message[q].measure(0, 0)\n",
    "        if bases[q] == 1:\n",
    "            message[q].h(0)\n",
    "            message[q].measure(0, 0)\n",
    "        aer_sim = Aer.get_backend('aer_simulator')\n",
    "        result = aer_sim.run(message[q], shots=1, memory=True).result()\n",
    "        measured_bit = int(result.get_memory()[0])\n",
    "        measurements.append(measured_bit)\n",
    "\n",
    "    return measurements\n",
    "\n",
    "\n",
    "# has to remove bits that are measured in different bits by Bob and Alice\n",
    "def remove_garbage(a_bases, b_bases, bits):\n",
    "    good_bits = []\n",
    "    indices_of_good_bits = []\n",
    "    for q in range(len(a_bases)):\n",
    "        if a_bases[q] == b_bases[q]:\n",
    "            good_bits.append(int(bits[q]))\n",
    "            indices_of_good_bits.append(q)\n",
    "\n",
    "    return good_bits, indices_of_good_bits\n",
    "\n",
    "\n",
    "# check some bits to ensure that there is no eavesdropper\n",
    "def sample_bits(bits, selection):\n",
    "    sample = []\n",
    "    for i in selection:\n",
    "        i = np.mod(i, len(bits))\n",
    "        sample.append(bits.pop(i))\n",
    "\n",
    "    return sample"
   ]
  },
  {
   "cell_type": "code",
   "execution_count": 32,
   "id": "ee849e9b-1ac9-45a3-8190-d4c9bb8c9856",
   "metadata": {},
   "outputs": [],
   "source": [
    "## WITHOUT EAVESDROPPER\n",
    "\n",
    "qc = QuantumCircuit(1, 1)\n",
    "\n",
    "# generate pseudorandom numbers to generate pseudorandom key\n",
    "np.random.seed(seed = 0)\n",
    "n = 100\n",
    "\n",
    "## Step 1\n",
    "# Alice generates her bits\n",
    "alice_bits = [random.randint(0, 1) for _ in range(n)]"
   ]
  },
  {
   "cell_type": "code",
   "execution_count": 39,
   "id": "36af56b4-e9c1-4ca5-ae54-943f35a0d7d2",
   "metadata": {
    "scrolled": true
   },
   "outputs": [
    {
     "name": "stdout",
     "output_type": "stream",
     "text": [
      "alice's bases: [1, 0, 1, 1, 0, 0, 0, 1, 0, 0, 0, 0, 1, 1, 0, 0, 0, 0, 1, 1, 0, 0, 1, 0, 1, 1, 0, 1, 1, 1, 0, 1, 0, 0, 1, 1, 0, 0, 1, 1, 0, 1, 0, 1, 1, 0, 0, 0, 1, 1, 1, 1, 0, 1, 1, 1, 1, 0, 1, 1, 0, 0, 1, 0, 1, 1, 1, 1, 0, 1, 1, 1, 1, 1, 1, 1, 0, 0, 0, 1, 0, 1, 0, 1, 0, 0, 0, 0, 1, 0, 0, 0, 0, 0, 1, 0, 1, 0, 1, 1]\n",
      "alice's bits: [1, 0, 0, 1, 1, 1, 0, 1, 0, 0, 0, 1, 1, 0, 0, 1, 0, 1, 1, 1, 1, 1, 0, 0, 0, 0, 1, 1, 1, 0, 1, 0, 1, 0, 1, 0, 0, 1, 1, 0, 0, 1, 1, 0, 0, 1, 0, 0, 1, 1, 1, 0, 1, 0, 0, 1, 1, 0, 0, 0, 0, 1, 0, 1, 0, 1, 0, 1, 0, 0, 1, 0, 1, 1, 1, 1, 1, 0, 1, 0, 1, 1, 0, 0, 1, 0, 0, 0, 0, 1, 0, 0, 1, 0, 0, 1, 0, 0, 1, 1]\n",
      "bit = 1\n",
      "basis = 1\n"
     ]
    },
    {
     "data": {
      "image/png": "[encoded data removed]",
      "text/plain": [
       "<Figure size 352.675x200.667 with 1 Axes>"
      ]
     },
     "execution_count": 39,
     "metadata": {},
     "output_type": "execute_result"
    }
   ],
   "source": [
    "## Step 2\n",
    "# Alice generates random basis in which qubits are encoded\n",
    "alice_bases = [random.randint(0, 1) for _ in range(n)]\n",
    "print(\"alice's bases: \" + str(alice_bases))\n",
    "print(\"alice's bits: \" + str(alice_bits))\n",
    "message = encode_message(alice_bits, alice_bases)\n",
    "\n",
    "# print('bit = %i' % alice_bits[0])\n",
    "# print('basis = %i' % alice_bases[0])\n",
    "# message[0].draw(output='mpl')"
   ]
  },
  {
   "cell_type": "code",
   "execution_count": 34,
   "id": "591d0253-4ccb-43fe-859f-c973e74c7af2",
   "metadata": {
    "scrolled": true
   },
   "outputs": [
    {
     "name": "stdout",
     "output_type": "stream",
     "text": [
      "bob's bases: [1, 1, 0, 1, 1, 1, 0, 1, 0, 0, 0, 0, 0, 1, 1, 0, 1, 0, 1, 0, 1, 0, 1, 0, 0, 1, 0, 0, 1, 1, 1, 1, 1, 1, 1, 0, 0, 1, 1, 0, 0, 0, 0, 0, 0, 1, 0, 0, 1, 0, 0, 1, 1, 1, 1, 1, 1, 0, 0, 0, 1, 1, 1, 1, 1, 1, 1, 0, 0, 0, 1, 1, 1, 1, 0, 0, 0, 1, 1, 1, 1, 0, 0, 1, 1, 1, 0, 0, 0, 1, 0, 1, 0, 1, 0, 0, 1, 1, 0, 1]\n",
      "bob's results: [1, 0, 0, 1, 0, 1, 0, 1, 0, 0, 0, 1, 1, 0, 0, 1, 1, 1, 0, 1, 1, 1, 0, 0, 1, 0, 1, 1, 0, 0, 1, 1, 1, 0, 1, 0, 0, 0, 1, 0, 0, 0, 1, 0, 0, 1, 0, 0, 0, 1, 0, 1, 1, 0, 0, 1, 1, 0, 0, 0, 0, 1, 0, 0, 0, 1, 0, 1, 0, 0, 1, 0, 1, 1, 0, 1, 1, 0, 1, 0, 0, 1, 0, 1, 1, 0, 0, 0, 0, 0, 0, 0, 1, 0, 0, 0, 0, 0, 1, 1]\n"
     ]
    }
   ],
   "source": [
    "## Step 3\n",
    "# Bob decides on his measurement basis\n",
    "bob_bases = [random.randint(0, 1) for _ in range(n)]\n",
    "print(\"bob's bases: \" + str(bob_bases))\n",
    "bob_results = measure_message(message, bob_bases)\n",
    "print(\"bob's results: \" + str(bob_results))\n",
    "# message[0].draw(output='mpl')"
   ]
  },
  {
   "cell_type": "code",
   "execution_count": 35,
   "id": "7e272745-d3ec-455d-b86a-8061a2a03cdd",
   "metadata": {},
   "outputs": [
    {
     "name": "stdout",
     "output_type": "stream",
     "text": [
      "[1, 0, 0, 0, 0, 1, 0, 1, 1, 1, 1, 0, 0, 0, 1, 0, 1, 1, 0, 1, 0, 0, 1, 0, 1, 0, 1, 0, 0, 0, 1, 0, 1, 0, 0, 0, 0, 1, 1, 1, 0, 1, 1, 0, 0, 0, 0, 0, 0, 0, 0, 1]\n",
      "[1, 0, 0, 0, 0, 1, 0, 1, 1, 1, 1, 0, 0, 0, 1, 0, 1, 1, 0, 1, 0, 0, 1, 0, 1, 0, 1, 0, 0, 0, 1, 0, 1, 0, 0, 0, 0, 1, 1, 1, 0, 1, 1, 0, 0, 0, 0, 0, 0, 0, 0, 1]\n",
      "alice indices: [0, 1, 6, 8, 9, 12, 13, 15, 17, 19, 21, 22, 23, 25, 27, 29, 30, 34, 36, 38, 40, 44, 45, 47, 52, 54, 55, 57, 58, 60, 61, 64, 65, 66, 68, 69, 71, 73, 75, 76, 77, 81, 84, 85, 87, 88, 90, 91, 93, 94, 97, 99]\n",
      "bob indices: [0, 1, 6, 8, 9, 12, 13, 15, 17, 19, 21, 22, 23, 25, 27, 29, 30, 34, 36, 38, 40, 44, 45, 47, 52, 54, 55, 57, 58, 60, 61, 64, 65, 66, 68, 69, 71, 73, 75, 76, 77, 81, 84, 85, 87, 88, 90, 91, 93, 94, 97, 99]\n"
     ]
    }
   ],
   "source": [
    "## Step 4\n",
    "# Remove bits that are measured in different bases by Bob and Alice respectively\n",
    "alice_key, alice_indices = remove_garbage(alice_bases, bob_bases, alice_bits)\n",
    "bob_key, bob_indices = remove_garbage(alice_bases, bob_bases, bob_results)\n",
    "print(alice_key)\n",
    "print(bob_key)\n",
    "\n",
    "print(\"alice indices: \" + str(alice_indices))\n",
    "print(\"bob indices: \" + str(bob_indices))"
   ]
  },
  {
   "cell_type": "code",
   "execution_count": 36,
   "id": "2d54b564-d69e-40d2-89c2-3436f707863a",
   "metadata": {},
   "outputs": [
    {
     "name": "stdout",
     "output_type": "stream",
     "text": [
      "  Bob's sample = [0, 0, 1, 1, 0, 1, 1, 0, 1, 0, 0, 1, 0, 1, 0]\n",
      "Alice's sample = [0, 0, 1, 1, 0, 1, 1, 0, 1, 0, 0, 1, 0, 1, 0]\n"
     ]
    }
   ],
   "source": [
    "## Step 5\n",
    "# compare bits\n",
    "sample_size = 15\n",
    "bit_selection = randint(n, size=sample_size)\n",
    "\n",
    "bob_sample = sample_bits(bob_key, bit_selection)\n",
    "alice_sample = sample_bits(alice_key, bit_selection)\n",
    "print(\"  Bob's sample = \" + str(bob_sample))\n",
    "print(\"Alice's sample = \" + str(alice_sample))"
   ]
  },
  {
   "cell_type": "code",
   "execution_count": null,
   "id": "ca91f502-432c-4d9f-b592-5fa1c79b4942",
   "metadata": {},
   "outputs": [],
   "source": []
  }
 ],
 "metadata": {
  "kernelspec": {
   "display_name": "Python 3 (ipykernel)",
   "language": "python",
   "name": "python3"
  },
  "language_info": {
   "codemirror_mode": {
    "name": "ipython",
    "version": 3
   },
   "file_extension": ".py",
   "mimetype": "text/x-python",
   "name": "python",
   "nbconvert_exporter": "python",
   "pygments_lexer": "ipython3",
   "version": "3.12.7"
  }
 },
 "nbformat": 4,
 "nbformat_minor": 5
}
